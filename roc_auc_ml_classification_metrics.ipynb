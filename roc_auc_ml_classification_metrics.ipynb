{
 "cells": [
  {
   "cell_type": "markdown",
   "metadata": {},
   "source": [
    "#  ROC (Receiver Operating Characteristic )  Curve\n",
    "# AUC (Area Under the Curve ) Score\n"
   ]
  },
  {
   "cell_type": "code",
   "execution_count": 1,
   "metadata": {},
   "outputs": [],
   "source": [
    "# import the important libraries\n",
    "import numpy as np\n",
    "import pandas as pd\n",
    "import matplotlib.pyplot as plt\n",
    "from sklearn.metrics import accuracy_score , confusion_matrix\n",
    "from sklearn.linear_model import LogisticRegression\n",
    "from sklearn.model_selection import train_test_split\n",
    "from sklearn.metrics import roc_curve, roc_auc_score"
   ]
  },
  {
   "cell_type": "code",
   "execution_count": 2,
   "metadata": {},
   "outputs": [],
   "source": [
    "# load the csv file using \n",
    "data = pd.read_csv('cancer.csv')"
   ]
  },
  {
   "cell_type": "code",
   "execution_count": 3,
   "metadata": {},
   "outputs": [
    {
     "name": "stdout",
     "output_type": "stream",
     "text": [
      "(569, 33)\n"
     ]
    },
    {
     "data": {
      "text/html": [
       "<div>\n",
       "<style scoped>\n",
       "    .dataframe tbody tr th:only-of-type {\n",
       "        vertical-align: middle;\n",
       "    }\n",
       "\n",
       "    .dataframe tbody tr th {\n",
       "        vertical-align: top;\n",
       "    }\n",
       "\n",
       "    .dataframe thead th {\n",
       "        text-align: right;\n",
       "    }\n",
       "</style>\n",
       "<table border=\"1\" class=\"dataframe\">\n",
       "  <thead>\n",
       "    <tr style=\"text-align: right;\">\n",
       "      <th></th>\n",
       "      <th>id</th>\n",
       "      <th>diagnosis</th>\n",
       "      <th>radius_mean</th>\n",
       "      <th>texture_mean</th>\n",
       "      <th>perimeter_mean</th>\n",
       "      <th>area_mean</th>\n",
       "      <th>smoothness_mean</th>\n",
       "      <th>compactness_mean</th>\n",
       "      <th>concavity_mean</th>\n",
       "      <th>concave points_mean</th>\n",
       "      <th>...</th>\n",
       "      <th>texture_worst</th>\n",
       "      <th>perimeter_worst</th>\n",
       "      <th>area_worst</th>\n",
       "      <th>smoothness_worst</th>\n",
       "      <th>compactness_worst</th>\n",
       "      <th>concavity_worst</th>\n",
       "      <th>concave points_worst</th>\n",
       "      <th>symmetry_worst</th>\n",
       "      <th>fractal_dimension_worst</th>\n",
       "      <th>Unnamed: 32</th>\n",
       "    </tr>\n",
       "  </thead>\n",
       "  <tbody>\n",
       "    <tr>\n",
       "      <th>0</th>\n",
       "      <td>842302</td>\n",
       "      <td>M</td>\n",
       "      <td>17.99</td>\n",
       "      <td>10.38</td>\n",
       "      <td>122.80</td>\n",
       "      <td>1001.0</td>\n",
       "      <td>0.11840</td>\n",
       "      <td>0.27760</td>\n",
       "      <td>0.3001</td>\n",
       "      <td>0.14710</td>\n",
       "      <td>...</td>\n",
       "      <td>17.33</td>\n",
       "      <td>184.60</td>\n",
       "      <td>2019.0</td>\n",
       "      <td>0.1622</td>\n",
       "      <td>0.6656</td>\n",
       "      <td>0.7119</td>\n",
       "      <td>0.2654</td>\n",
       "      <td>0.4601</td>\n",
       "      <td>0.11890</td>\n",
       "      <td>NaN</td>\n",
       "    </tr>\n",
       "    <tr>\n",
       "      <th>1</th>\n",
       "      <td>842517</td>\n",
       "      <td>M</td>\n",
       "      <td>20.57</td>\n",
       "      <td>17.77</td>\n",
       "      <td>132.90</td>\n",
       "      <td>1326.0</td>\n",
       "      <td>0.08474</td>\n",
       "      <td>0.07864</td>\n",
       "      <td>0.0869</td>\n",
       "      <td>0.07017</td>\n",
       "      <td>...</td>\n",
       "      <td>23.41</td>\n",
       "      <td>158.80</td>\n",
       "      <td>1956.0</td>\n",
       "      <td>0.1238</td>\n",
       "      <td>0.1866</td>\n",
       "      <td>0.2416</td>\n",
       "      <td>0.1860</td>\n",
       "      <td>0.2750</td>\n",
       "      <td>0.08902</td>\n",
       "      <td>NaN</td>\n",
       "    </tr>\n",
       "    <tr>\n",
       "      <th>2</th>\n",
       "      <td>84300903</td>\n",
       "      <td>M</td>\n",
       "      <td>19.69</td>\n",
       "      <td>21.25</td>\n",
       "      <td>130.00</td>\n",
       "      <td>1203.0</td>\n",
       "      <td>0.10960</td>\n",
       "      <td>0.15990</td>\n",
       "      <td>0.1974</td>\n",
       "      <td>0.12790</td>\n",
       "      <td>...</td>\n",
       "      <td>25.53</td>\n",
       "      <td>152.50</td>\n",
       "      <td>1709.0</td>\n",
       "      <td>0.1444</td>\n",
       "      <td>0.4245</td>\n",
       "      <td>0.4504</td>\n",
       "      <td>0.2430</td>\n",
       "      <td>0.3613</td>\n",
       "      <td>0.08758</td>\n",
       "      <td>NaN</td>\n",
       "    </tr>\n",
       "    <tr>\n",
       "      <th>3</th>\n",
       "      <td>84348301</td>\n",
       "      <td>M</td>\n",
       "      <td>11.42</td>\n",
       "      <td>20.38</td>\n",
       "      <td>77.58</td>\n",
       "      <td>386.1</td>\n",
       "      <td>0.14250</td>\n",
       "      <td>0.28390</td>\n",
       "      <td>0.2414</td>\n",
       "      <td>0.10520</td>\n",
       "      <td>...</td>\n",
       "      <td>26.50</td>\n",
       "      <td>98.87</td>\n",
       "      <td>567.7</td>\n",
       "      <td>0.2098</td>\n",
       "      <td>0.8663</td>\n",
       "      <td>0.6869</td>\n",
       "      <td>0.2575</td>\n",
       "      <td>0.6638</td>\n",
       "      <td>0.17300</td>\n",
       "      <td>NaN</td>\n",
       "    </tr>\n",
       "    <tr>\n",
       "      <th>4</th>\n",
       "      <td>84358402</td>\n",
       "      <td>M</td>\n",
       "      <td>20.29</td>\n",
       "      <td>14.34</td>\n",
       "      <td>135.10</td>\n",
       "      <td>1297.0</td>\n",
       "      <td>0.10030</td>\n",
       "      <td>0.13280</td>\n",
       "      <td>0.1980</td>\n",
       "      <td>0.10430</td>\n",
       "      <td>...</td>\n",
       "      <td>16.67</td>\n",
       "      <td>152.20</td>\n",
       "      <td>1575.0</td>\n",
       "      <td>0.1374</td>\n",
       "      <td>0.2050</td>\n",
       "      <td>0.4000</td>\n",
       "      <td>0.1625</td>\n",
       "      <td>0.2364</td>\n",
       "      <td>0.07678</td>\n",
       "      <td>NaN</td>\n",
       "    </tr>\n",
       "  </tbody>\n",
       "</table>\n",
       "<p>5 rows × 33 columns</p>\n",
       "</div>"
      ],
      "text/plain": [
       "         id diagnosis  radius_mean  texture_mean  perimeter_mean  area_mean  \\\n",
       "0    842302         M        17.99         10.38          122.80     1001.0   \n",
       "1    842517         M        20.57         17.77          132.90     1326.0   \n",
       "2  84300903         M        19.69         21.25          130.00     1203.0   \n",
       "3  84348301         M        11.42         20.38           77.58      386.1   \n",
       "4  84358402         M        20.29         14.34          135.10     1297.0   \n",
       "\n",
       "   smoothness_mean  compactness_mean  concavity_mean  concave points_mean  \\\n",
       "0          0.11840           0.27760          0.3001              0.14710   \n",
       "1          0.08474           0.07864          0.0869              0.07017   \n",
       "2          0.10960           0.15990          0.1974              0.12790   \n",
       "3          0.14250           0.28390          0.2414              0.10520   \n",
       "4          0.10030           0.13280          0.1980              0.10430   \n",
       "\n",
       "   ...  texture_worst  perimeter_worst  area_worst  smoothness_worst  \\\n",
       "0  ...          17.33           184.60      2019.0            0.1622   \n",
       "1  ...          23.41           158.80      1956.0            0.1238   \n",
       "2  ...          25.53           152.50      1709.0            0.1444   \n",
       "3  ...          26.50            98.87       567.7            0.2098   \n",
       "4  ...          16.67           152.20      1575.0            0.1374   \n",
       "\n",
       "   compactness_worst  concavity_worst  concave points_worst  symmetry_worst  \\\n",
       "0             0.6656           0.7119                0.2654          0.4601   \n",
       "1             0.1866           0.2416                0.1860          0.2750   \n",
       "2             0.4245           0.4504                0.2430          0.3613   \n",
       "3             0.8663           0.6869                0.2575          0.6638   \n",
       "4             0.2050           0.4000                0.1625          0.2364   \n",
       "\n",
       "   fractal_dimension_worst  Unnamed: 32  \n",
       "0                  0.11890          NaN  \n",
       "1                  0.08902          NaN  \n",
       "2                  0.08758          NaN  \n",
       "3                  0.17300          NaN  \n",
       "4                  0.07678          NaN  \n",
       "\n",
       "[5 rows x 33 columns]"
      ]
     },
     "execution_count": 3,
     "metadata": {},
     "output_type": "execute_result"
    }
   ],
   "source": [
    "# shape of data\n",
    "print(data.shape)\n",
    "\n",
    "# top 5 data\n",
    "data.head()"
   ]
  },
  {
   "cell_type": "code",
   "execution_count": 4,
   "metadata": {},
   "outputs": [
    {
     "data": {
      "text/plain": [
       "Index(['id', 'diagnosis', 'radius_mean', 'texture_mean', 'perimeter_mean',\n",
       "       'area_mean', 'smoothness_mean', 'compactness_mean', 'concavity_mean',\n",
       "       'concave points_mean', 'symmetry_mean', 'fractal_dimension_mean',\n",
       "       'radius_se', 'texture_se', 'perimeter_se', 'area_se', 'smoothness_se',\n",
       "       'compactness_se', 'concavity_se', 'concave points_se', 'symmetry_se',\n",
       "       'fractal_dimension_se', 'radius_worst', 'texture_worst',\n",
       "       'perimeter_worst', 'area_worst', 'smoothness_worst',\n",
       "       'compactness_worst', 'concavity_worst', 'concave points_worst',\n",
       "       'symmetry_worst', 'fractal_dimension_worst', 'Unnamed: 32'],\n",
       "      dtype='object')"
      ]
     },
     "execution_count": 4,
     "metadata": {},
     "output_type": "execute_result"
    }
   ],
   "source": [
    "# extract all the columns\n",
    "data.columns"
   ]
  },
  {
   "cell_type": "code",
   "execution_count": 5,
   "metadata": {},
   "outputs": [],
   "source": [
    "# removing the unncessary columns\n",
    "data.drop(labels=['id' , 'Unnamed: 32'] , inplace=True , axis =1 )"
   ]
  },
  {
   "cell_type": "code",
   "execution_count": 6,
   "metadata": {},
   "outputs": [
    {
     "data": {
      "text/plain": [
       "Index(['diagnosis', 'radius_mean', 'texture_mean', 'perimeter_mean',\n",
       "       'area_mean', 'smoothness_mean', 'compactness_mean', 'concavity_mean',\n",
       "       'concave points_mean', 'symmetry_mean', 'fractal_dimension_mean',\n",
       "       'radius_se', 'texture_se', 'perimeter_se', 'area_se', 'smoothness_se',\n",
       "       'compactness_se', 'concavity_se', 'concave points_se', 'symmetry_se',\n",
       "       'fractal_dimension_se', 'radius_worst', 'texture_worst',\n",
       "       'perimeter_worst', 'area_worst', 'smoothness_worst',\n",
       "       'compactness_worst', 'concavity_worst', 'concave points_worst',\n",
       "       'symmetry_worst', 'fractal_dimension_worst'],\n",
       "      dtype='object')"
      ]
     },
     "execution_count": 6,
     "metadata": {},
     "output_type": "execute_result"
    }
   ],
   "source": [
    "# lets check again if the columns are removed or not\n",
    "data.columns"
   ]
  },
  {
   "cell_type": "code",
   "execution_count": 7,
   "metadata": {},
   "outputs": [
    {
     "data": {
      "text/plain": [
       "array(['M', 'B'], dtype=object)"
      ]
     },
     "execution_count": 7,
     "metadata": {},
     "output_type": "execute_result"
    }
   ],
   "source": [
    "# lets our target varibale\n",
    "data.diagnosis.unique()"
   ]
  },
  {
   "cell_type": "code",
   "execution_count": 8,
   "metadata": {},
   "outputs": [
    {
     "name": "stderr",
     "output_type": "stream",
     "text": [
      "<>:2: SyntaxWarning: \"is\" with a literal. Did you mean \"==\"?\n",
      "<>:2: SyntaxWarning: \"is\" with a literal. Did you mean \"==\"?\n",
      "<ipython-input-8-78ba587c692d>:2: SyntaxWarning: \"is\" with a literal. Did you mean \"==\"?\n",
      "  data['diagnosis'] = data['diagnosis'].apply(lambda x : 1 if x is \"M\" else 0)\n"
     ]
    }
   ],
   "source": [
    "# converting M---> 1 and B---->0\n",
    "data['diagnosis'] = data['diagnosis'].apply(lambda x : 1 if x is \"M\" else 0)"
   ]
  },
  {
   "cell_type": "code",
   "execution_count": 9,
   "metadata": {},
   "outputs": [
    {
     "data": {
      "text/plain": [
       "smoothness_se             -0.067016\n",
       "fractal_dimension_mean    -0.012838\n",
       "texture_se                -0.008303\n",
       "symmetry_se               -0.006522\n",
       "fractal_dimension_se       0.077972\n",
       "concavity_se               0.253730\n",
       "compactness_se             0.292999\n",
       "fractal_dimension_worst    0.323872\n",
       "symmetry_mean              0.330499\n",
       "smoothness_mean            0.358560\n",
       "concave points_se          0.408042\n",
       "texture_mean               0.415185\n",
       "symmetry_worst             0.416294\n",
       "smoothness_worst           0.421465\n",
       "texture_worst              0.456903\n",
       "area_se                    0.548236\n",
       "perimeter_se               0.556141\n",
       "radius_se                  0.567134\n",
       "compactness_worst          0.590998\n",
       "compactness_mean           0.596534\n",
       "concavity_worst            0.659610\n",
       "concavity_mean             0.696360\n",
       "area_mean                  0.708984\n",
       "radius_mean                0.730029\n",
       "area_worst                 0.733825\n",
       "perimeter_mean             0.742636\n",
       "radius_worst               0.776454\n",
       "concave points_mean        0.776614\n",
       "perimeter_worst            0.782914\n",
       "concave points_worst       0.793566\n",
       "diagnosis                  1.000000\n",
       "Name: diagnosis, dtype: float64"
      ]
     },
     "execution_count": 9,
     "metadata": {},
     "output_type": "execute_result"
    }
   ],
   "source": [
    "# correlation between all the columns\n",
    "data.corr().diagnosis.sort_values()"
   ]
  },
  {
   "cell_type": "code",
   "execution_count": 10,
   "metadata": {},
   "outputs": [
    {
     "data": {
      "text/html": [
       "<div>\n",
       "<style scoped>\n",
       "    .dataframe tbody tr th:only-of-type {\n",
       "        vertical-align: middle;\n",
       "    }\n",
       "\n",
       "    .dataframe tbody tr th {\n",
       "        vertical-align: top;\n",
       "    }\n",
       "\n",
       "    .dataframe thead th {\n",
       "        text-align: right;\n",
       "    }\n",
       "</style>\n",
       "<table border=\"1\" class=\"dataframe\">\n",
       "  <thead>\n",
       "    <tr style=\"text-align: right;\">\n",
       "      <th></th>\n",
       "      <th>radius_mean</th>\n",
       "      <th>texture_mean</th>\n",
       "      <th>perimeter_mean</th>\n",
       "      <th>area_mean</th>\n",
       "      <th>smoothness_mean</th>\n",
       "      <th>compactness_mean</th>\n",
       "      <th>concavity_mean</th>\n",
       "      <th>concave points_mean</th>\n",
       "      <th>symmetry_mean</th>\n",
       "      <th>fractal_dimension_mean</th>\n",
       "      <th>...</th>\n",
       "      <th>radius_worst</th>\n",
       "      <th>texture_worst</th>\n",
       "      <th>perimeter_worst</th>\n",
       "      <th>area_worst</th>\n",
       "      <th>smoothness_worst</th>\n",
       "      <th>compactness_worst</th>\n",
       "      <th>concavity_worst</th>\n",
       "      <th>concave points_worst</th>\n",
       "      <th>symmetry_worst</th>\n",
       "      <th>fractal_dimension_worst</th>\n",
       "    </tr>\n",
       "  </thead>\n",
       "  <tbody>\n",
       "    <tr>\n",
       "      <th>0</th>\n",
       "      <td>17.99</td>\n",
       "      <td>10.38</td>\n",
       "      <td>122.80</td>\n",
       "      <td>1001.0</td>\n",
       "      <td>0.11840</td>\n",
       "      <td>0.27760</td>\n",
       "      <td>0.3001</td>\n",
       "      <td>0.14710</td>\n",
       "      <td>0.2419</td>\n",
       "      <td>0.07871</td>\n",
       "      <td>...</td>\n",
       "      <td>25.38</td>\n",
       "      <td>17.33</td>\n",
       "      <td>184.60</td>\n",
       "      <td>2019.0</td>\n",
       "      <td>0.1622</td>\n",
       "      <td>0.6656</td>\n",
       "      <td>0.7119</td>\n",
       "      <td>0.2654</td>\n",
       "      <td>0.4601</td>\n",
       "      <td>0.11890</td>\n",
       "    </tr>\n",
       "    <tr>\n",
       "      <th>1</th>\n",
       "      <td>20.57</td>\n",
       "      <td>17.77</td>\n",
       "      <td>132.90</td>\n",
       "      <td>1326.0</td>\n",
       "      <td>0.08474</td>\n",
       "      <td>0.07864</td>\n",
       "      <td>0.0869</td>\n",
       "      <td>0.07017</td>\n",
       "      <td>0.1812</td>\n",
       "      <td>0.05667</td>\n",
       "      <td>...</td>\n",
       "      <td>24.99</td>\n",
       "      <td>23.41</td>\n",
       "      <td>158.80</td>\n",
       "      <td>1956.0</td>\n",
       "      <td>0.1238</td>\n",
       "      <td>0.1866</td>\n",
       "      <td>0.2416</td>\n",
       "      <td>0.1860</td>\n",
       "      <td>0.2750</td>\n",
       "      <td>0.08902</td>\n",
       "    </tr>\n",
       "    <tr>\n",
       "      <th>2</th>\n",
       "      <td>19.69</td>\n",
       "      <td>21.25</td>\n",
       "      <td>130.00</td>\n",
       "      <td>1203.0</td>\n",
       "      <td>0.10960</td>\n",
       "      <td>0.15990</td>\n",
       "      <td>0.1974</td>\n",
       "      <td>0.12790</td>\n",
       "      <td>0.2069</td>\n",
       "      <td>0.05999</td>\n",
       "      <td>...</td>\n",
       "      <td>23.57</td>\n",
       "      <td>25.53</td>\n",
       "      <td>152.50</td>\n",
       "      <td>1709.0</td>\n",
       "      <td>0.1444</td>\n",
       "      <td>0.4245</td>\n",
       "      <td>0.4504</td>\n",
       "      <td>0.2430</td>\n",
       "      <td>0.3613</td>\n",
       "      <td>0.08758</td>\n",
       "    </tr>\n",
       "    <tr>\n",
       "      <th>3</th>\n",
       "      <td>11.42</td>\n",
       "      <td>20.38</td>\n",
       "      <td>77.58</td>\n",
       "      <td>386.1</td>\n",
       "      <td>0.14250</td>\n",
       "      <td>0.28390</td>\n",
       "      <td>0.2414</td>\n",
       "      <td>0.10520</td>\n",
       "      <td>0.2597</td>\n",
       "      <td>0.09744</td>\n",
       "      <td>...</td>\n",
       "      <td>14.91</td>\n",
       "      <td>26.50</td>\n",
       "      <td>98.87</td>\n",
       "      <td>567.7</td>\n",
       "      <td>0.2098</td>\n",
       "      <td>0.8663</td>\n",
       "      <td>0.6869</td>\n",
       "      <td>0.2575</td>\n",
       "      <td>0.6638</td>\n",
       "      <td>0.17300</td>\n",
       "    </tr>\n",
       "    <tr>\n",
       "      <th>4</th>\n",
       "      <td>20.29</td>\n",
       "      <td>14.34</td>\n",
       "      <td>135.10</td>\n",
       "      <td>1297.0</td>\n",
       "      <td>0.10030</td>\n",
       "      <td>0.13280</td>\n",
       "      <td>0.1980</td>\n",
       "      <td>0.10430</td>\n",
       "      <td>0.1809</td>\n",
       "      <td>0.05883</td>\n",
       "      <td>...</td>\n",
       "      <td>22.54</td>\n",
       "      <td>16.67</td>\n",
       "      <td>152.20</td>\n",
       "      <td>1575.0</td>\n",
       "      <td>0.1374</td>\n",
       "      <td>0.2050</td>\n",
       "      <td>0.4000</td>\n",
       "      <td>0.1625</td>\n",
       "      <td>0.2364</td>\n",
       "      <td>0.07678</td>\n",
       "    </tr>\n",
       "  </tbody>\n",
       "</table>\n",
       "<p>5 rows × 30 columns</p>\n",
       "</div>"
      ],
      "text/plain": [
       "   radius_mean  texture_mean  perimeter_mean  area_mean  smoothness_mean  \\\n",
       "0        17.99         10.38          122.80     1001.0          0.11840   \n",
       "1        20.57         17.77          132.90     1326.0          0.08474   \n",
       "2        19.69         21.25          130.00     1203.0          0.10960   \n",
       "3        11.42         20.38           77.58      386.1          0.14250   \n",
       "4        20.29         14.34          135.10     1297.0          0.10030   \n",
       "\n",
       "   compactness_mean  concavity_mean  concave points_mean  symmetry_mean  \\\n",
       "0           0.27760          0.3001              0.14710         0.2419   \n",
       "1           0.07864          0.0869              0.07017         0.1812   \n",
       "2           0.15990          0.1974              0.12790         0.2069   \n",
       "3           0.28390          0.2414              0.10520         0.2597   \n",
       "4           0.13280          0.1980              0.10430         0.1809   \n",
       "\n",
       "   fractal_dimension_mean  ...  radius_worst  texture_worst  perimeter_worst  \\\n",
       "0                 0.07871  ...         25.38          17.33           184.60   \n",
       "1                 0.05667  ...         24.99          23.41           158.80   \n",
       "2                 0.05999  ...         23.57          25.53           152.50   \n",
       "3                 0.09744  ...         14.91          26.50            98.87   \n",
       "4                 0.05883  ...         22.54          16.67           152.20   \n",
       "\n",
       "   area_worst  smoothness_worst  compactness_worst  concavity_worst  \\\n",
       "0      2019.0            0.1622             0.6656           0.7119   \n",
       "1      1956.0            0.1238             0.1866           0.2416   \n",
       "2      1709.0            0.1444             0.4245           0.4504   \n",
       "3       567.7            0.2098             0.8663           0.6869   \n",
       "4      1575.0            0.1374             0.2050           0.4000   \n",
       "\n",
       "   concave points_worst  symmetry_worst  fractal_dimension_worst  \n",
       "0                0.2654          0.4601                  0.11890  \n",
       "1                0.1860          0.2750                  0.08902  \n",
       "2                0.2430          0.3613                  0.08758  \n",
       "3                0.2575          0.6638                  0.17300  \n",
       "4                0.1625          0.2364                  0.07678  \n",
       "\n",
       "[5 rows x 30 columns]"
      ]
     },
     "execution_count": 10,
     "metadata": {},
     "output_type": "execute_result"
    }
   ],
   "source": [
    "# seprating independent and dependent variable\n",
    "X = data.drop(labels=['diagnosis'] , axis=1)\n",
    "y = data.diagnosis\n",
    "X.head()"
   ]
  },
  {
   "cell_type": "code",
   "execution_count": 11,
   "metadata": {},
   "outputs": [
    {
     "data": {
      "text/plain": [
       "0    1\n",
       "1    1\n",
       "2    1\n",
       "3    1\n",
       "4    1\n",
       "Name: diagnosis, dtype: int64"
      ]
     },
     "execution_count": 11,
     "metadata": {},
     "output_type": "execute_result"
    }
   ],
   "source": [
    "y.head()"
   ]
  },
  {
   "cell_type": "code",
   "execution_count": 12,
   "metadata": {},
   "outputs": [],
   "source": [
    "# train test split\n",
    "X_train,X_test,y_train,y_test = train_test_split(X,y,test_size=0.3,random_state=10)"
   ]
  },
  {
   "cell_type": "code",
   "execution_count": 13,
   "metadata": {},
   "outputs": [
    {
     "name": "stderr",
     "output_type": "stream",
     "text": [
      "/home/hulk/anaconda3/lib/python3.8/site-packages/sklearn/linear_model/_logistic.py:762: ConvergenceWarning: lbfgs failed to converge (status=1):\n",
      "STOP: TOTAL NO. of ITERATIONS REACHED LIMIT.\n",
      "\n",
      "Increase the number of iterations (max_iter) or scale the data as shown in:\n",
      "    https://scikit-learn.org/stable/modules/preprocessing.html\n",
      "Please also refer to the documentation for alternative solver options:\n",
      "    https://scikit-learn.org/stable/modules/linear_model.html#logistic-regression\n",
      "  n_iter_i = _check_optimize_result(\n"
     ]
    }
   ],
   "source": [
    "# training the logistic model\n",
    "model = LogisticRegression(C=100)\n",
    "model.fit(X_train,y_train)\n",
    "\n",
    "# doing prediction on the train data\n",
    "y_predict= model.predict(X_test)"
   ]
  },
  {
   "cell_type": "code",
   "execution_count": 14,
   "metadata": {},
   "outputs": [
    {
     "name": "stdout",
     "output_type": "stream",
     "text": [
      "0.9590643274853801\n"
     ]
    },
    {
     "data": {
      "text/html": [
       "<div>\n",
       "<style scoped>\n",
       "    .dataframe tbody tr th:only-of-type {\n",
       "        vertical-align: middle;\n",
       "    }\n",
       "\n",
       "    .dataframe tbody tr th {\n",
       "        vertical-align: top;\n",
       "    }\n",
       "\n",
       "    .dataframe thead th {\n",
       "        text-align: right;\n",
       "    }\n",
       "</style>\n",
       "<table border=\"1\" class=\"dataframe\">\n",
       "  <thead>\n",
       "    <tr style=\"text-align: right;\">\n",
       "      <th>col_0</th>\n",
       "      <th>0</th>\n",
       "      <th>1</th>\n",
       "    </tr>\n",
       "    <tr>\n",
       "      <th>diagnosis</th>\n",
       "      <th></th>\n",
       "      <th></th>\n",
       "    </tr>\n",
       "  </thead>\n",
       "  <tbody>\n",
       "    <tr>\n",
       "      <th>0</th>\n",
       "      <td>106</td>\n",
       "      <td>6</td>\n",
       "    </tr>\n",
       "    <tr>\n",
       "      <th>1</th>\n",
       "      <td>1</td>\n",
       "      <td>58</td>\n",
       "    </tr>\n",
       "  </tbody>\n",
       "</table>\n",
       "</div>"
      ],
      "text/plain": [
       "col_0        0   1\n",
       "diagnosis         \n",
       "0          106   6\n",
       "1            1  58"
      ]
     },
     "execution_count": 14,
     "metadata": {},
     "output_type": "execute_result"
    }
   ],
   "source": [
    "# printing the accuracy score and confusio matrix\n",
    "print(accuracy_score(y_test,y_predict))\n",
    "pd.crosstab(y_test,y_predict)"
   ]
  },
  {
   "cell_type": "code",
   "execution_count": 15,
   "metadata": {},
   "outputs": [
    {
     "data": {
      "text/plain": [
       "array([[7.97518174e-04, 9.99202482e-01],\n",
       "       [9.99934515e-01, 6.54853334e-05],\n",
       "       [9.99836909e-01, 1.63090881e-04],\n",
       "       [1.52439369e-06, 9.99998476e-01],\n",
       "       [9.98994660e-01, 1.00534025e-03],\n",
       "       [9.21626107e-01, 7.83738928e-02],\n",
       "       [9.99936523e-01, 6.34774719e-05],\n",
       "       [4.63088707e-01, 5.36911293e-01],\n",
       "       [5.61678766e-08, 9.99999944e-01],\n",
       "       [4.01406929e-02, 9.59859307e-01],\n",
       "       [9.99984142e-01, 1.58575515e-05],\n",
       "       [9.99981155e-01, 1.88446076e-05],\n",
       "       [1.14886583e-01, 8.85113417e-01],\n",
       "       [9.99922250e-01, 7.77496874e-05],\n",
       "       [2.30223026e-05, 9.99976978e-01],\n",
       "       [9.78410598e-04, 9.99021589e-01],\n",
       "       [9.99722253e-01, 2.77746731e-04],\n",
       "       [9.01224869e-01, 9.87751312e-02],\n",
       "       [9.84291155e-01, 1.57088445e-02],\n",
       "       [6.93547715e-02, 9.30645228e-01],\n",
       "       [1.52830398e-02, 9.84716960e-01],\n",
       "       [4.21652739e-01, 5.78347261e-01],\n",
       "       [9.83620983e-01, 1.63790166e-02],\n",
       "       [9.96129947e-01, 3.87005268e-03],\n",
       "       [6.32827124e-14, 1.00000000e+00],\n",
       "       [4.54989491e-09, 9.99999995e-01],\n",
       "       [6.92120974e-01, 3.07879026e-01],\n",
       "       [1.40150114e-11, 1.00000000e+00],\n",
       "       [9.99869365e-01, 1.30634820e-04],\n",
       "       [9.04298792e-01, 9.57012076e-02],\n",
       "       [9.99812161e-01, 1.87838569e-04],\n",
       "       [9.97650766e-01, 2.34923416e-03],\n",
       "       [3.53050922e-14, 1.00000000e+00],\n",
       "       [9.99726534e-01, 2.73466176e-04],\n",
       "       [9.75496458e-01, 2.45035423e-02],\n",
       "       [9.99908333e-01, 9.16670923e-05],\n",
       "       [9.98883473e-01, 1.11652681e-03],\n",
       "       [9.99995245e-01, 4.75509138e-06],\n",
       "       [9.99785896e-01, 2.14103607e-04],\n",
       "       [9.97096913e-01, 2.90308663e-03],\n",
       "       [9.99878400e-01, 1.21600351e-04],\n",
       "       [9.99896189e-01, 1.03810927e-04],\n",
       "       [9.77600892e-01, 2.23991083e-02],\n",
       "       [4.29856295e-02, 9.57014370e-01],\n",
       "       [9.99775064e-01, 2.24936062e-04],\n",
       "       [0.00000000e+00, 1.00000000e+00],\n",
       "       [3.38587548e-03, 9.96614125e-01],\n",
       "       [7.15890243e-05, 9.99928411e-01],\n",
       "       [6.84361734e-04, 9.99315638e-01],\n",
       "       [9.76058664e-01, 2.39413355e-02],\n",
       "       [9.69177869e-01, 3.08221311e-02],\n",
       "       [9.88671399e-01, 1.13286006e-02],\n",
       "       [1.50747868e-05, 9.99984925e-01],\n",
       "       [9.99287849e-01, 7.12151059e-04],\n",
       "       [9.94901644e-01, 5.09835633e-03],\n",
       "       [0.00000000e+00, 1.00000000e+00],\n",
       "       [7.21306720e-07, 9.99999279e-01],\n",
       "       [9.99890266e-01, 1.09734116e-04],\n",
       "       [9.30560499e-01, 6.94395006e-02],\n",
       "       [9.99995550e-01, 4.45025316e-06],\n",
       "       [0.00000000e+00, 1.00000000e+00],\n",
       "       [9.99926961e-01, 7.30387998e-05],\n",
       "       [1.02136950e-03, 9.98978631e-01],\n",
       "       [4.45055900e-01, 5.54944100e-01],\n",
       "       [9.99962319e-01, 3.76809587e-05],\n",
       "       [2.06298432e-02, 9.79370157e-01],\n",
       "       [9.50073184e-01, 4.99268158e-02],\n",
       "       [9.99999169e-01, 8.30549223e-07],\n",
       "       [7.71289871e-05, 9.99922871e-01],\n",
       "       [3.68455048e-04, 9.99631545e-01],\n",
       "       [9.99991347e-01, 8.65280887e-06],\n",
       "       [9.99957797e-01, 4.22026664e-05],\n",
       "       [9.98809668e-01, 1.19033187e-03],\n",
       "       [9.99984113e-01, 1.58871784e-05],\n",
       "       [9.95944428e-01, 4.05557202e-03],\n",
       "       [1.54650403e-03, 9.98453496e-01],\n",
       "       [9.99038137e-01, 9.61862957e-04],\n",
       "       [9.98330328e-01, 1.66967197e-03],\n",
       "       [5.36265035e-06, 9.99994637e-01],\n",
       "       [1.90828722e-04, 9.99809171e-01],\n",
       "       [9.99806597e-01, 1.93402733e-04],\n",
       "       [9.97551118e-01, 2.44888224e-03],\n",
       "       [2.22044605e-16, 1.00000000e+00],\n",
       "       [9.93201822e-01, 6.79817828e-03],\n",
       "       [9.99995506e-01, 4.49383626e-06],\n",
       "       [9.99459537e-01, 5.40462623e-04],\n",
       "       [9.72419288e-01, 2.75807119e-02],\n",
       "       [4.98150708e-02, 9.50184929e-01],\n",
       "       [9.98581997e-01, 1.41800287e-03],\n",
       "       [5.53732480e-02, 9.44626752e-01],\n",
       "       [9.98825723e-01, 1.17427734e-03],\n",
       "       [9.83787502e-01, 1.62124977e-02],\n",
       "       [2.52780832e-06, 9.99997472e-01],\n",
       "       [9.93485570e-01, 6.51443036e-03],\n",
       "       [9.99994776e-01, 5.22371450e-06],\n",
       "       [9.99746169e-01, 2.53830867e-04],\n",
       "       [2.92597058e-11, 1.00000000e+00],\n",
       "       [9.99458450e-01, 5.41550220e-04],\n",
       "       [6.66133815e-16, 1.00000000e+00],\n",
       "       [9.99716641e-01, 2.83358944e-04],\n",
       "       [5.86442006e-11, 1.00000000e+00],\n",
       "       [2.52105363e-05, 9.99974789e-01],\n",
       "       [9.99999850e-01, 1.49818812e-07],\n",
       "       [9.99994442e-01, 5.55846961e-06],\n",
       "       [9.99885805e-01, 1.14195457e-04],\n",
       "       [9.99998594e-01, 1.40645356e-06],\n",
       "       [2.77335266e-10, 1.00000000e+00],\n",
       "       [0.00000000e+00, 1.00000000e+00],\n",
       "       [9.99897573e-01, 1.02427235e-04],\n",
       "       [9.99719323e-01, 2.80677044e-04],\n",
       "       [9.99892985e-01, 1.07015366e-04],\n",
       "       [9.93243627e-01, 6.75637309e-03],\n",
       "       [4.44089210e-16, 1.00000000e+00],\n",
       "       [6.78325152e-09, 9.99999993e-01],\n",
       "       [0.00000000e+00, 1.00000000e+00],\n",
       "       [9.99985015e-01, 1.49850839e-05],\n",
       "       [9.50465729e-01, 4.95342709e-02],\n",
       "       [4.60076421e-13, 1.00000000e+00],\n",
       "       [3.75328549e-04, 9.99624671e-01],\n",
       "       [9.99862179e-01, 1.37820987e-04],\n",
       "       [9.99550551e-01, 4.49449349e-04],\n",
       "       [4.09188927e-09, 9.99999996e-01],\n",
       "       [9.99649803e-01, 3.50197070e-04],\n",
       "       [0.00000000e+00, 1.00000000e+00],\n",
       "       [9.99999683e-01, 3.17481774e-07],\n",
       "       [9.69983349e-01, 3.00166511e-02],\n",
       "       [3.55271368e-15, 1.00000000e+00],\n",
       "       [3.81016630e-04, 9.99618983e-01],\n",
       "       [9.99732925e-01, 2.67074630e-04],\n",
       "       [9.95710990e-01, 4.28900995e-03],\n",
       "       [9.36247490e-01, 6.37525104e-02],\n",
       "       [9.99840537e-01, 1.59462627e-04],\n",
       "       [2.56349867e-01, 7.43650133e-01],\n",
       "       [9.99997073e-01, 2.92728207e-06],\n",
       "       [9.99963970e-01, 3.60297330e-05],\n",
       "       [1.18449250e-10, 1.00000000e+00],\n",
       "       [1.11204585e-01, 8.88795415e-01],\n",
       "       [2.83451040e-11, 1.00000000e+00],\n",
       "       [8.84919275e-01, 1.15080725e-01],\n",
       "       [1.43350443e-10, 1.00000000e+00],\n",
       "       [9.99817789e-01, 1.82210637e-04],\n",
       "       [9.99992663e-01, 7.33739852e-06],\n",
       "       [0.00000000e+00, 1.00000000e+00],\n",
       "       [9.99953953e-01, 4.60472023e-05],\n",
       "       [9.99938337e-01, 6.16627131e-05],\n",
       "       [3.70814490e-14, 1.00000000e+00],\n",
       "       [9.99943566e-01, 5.64337716e-05],\n",
       "       [9.97903898e-01, 2.09610199e-03],\n",
       "       [9.91526949e-01, 8.47305102e-03],\n",
       "       [9.99981165e-01, 1.88352032e-05],\n",
       "       [4.79577699e-04, 9.99520422e-01],\n",
       "       [9.99986305e-01, 1.36951871e-05],\n",
       "       [1.62758695e-13, 1.00000000e+00],\n",
       "       [6.19543285e-01, 3.80456715e-01],\n",
       "       [9.99987643e-01, 1.23567143e-05],\n",
       "       [9.95471983e-01, 4.52801662e-03],\n",
       "       [6.78055390e-11, 1.00000000e+00],\n",
       "       [9.99399542e-01, 6.00457758e-04],\n",
       "       [9.99147465e-01, 8.52535180e-04],\n",
       "       [2.79874234e-05, 9.99972013e-01],\n",
       "       [9.99961505e-01, 3.84950501e-05],\n",
       "       [9.99961989e-01, 3.80113509e-05],\n",
       "       [9.99846596e-01, 1.53403919e-04],\n",
       "       [9.99802941e-01, 1.97058584e-04],\n",
       "       [9.98714929e-01, 1.28507083e-03],\n",
       "       [1.29645682e-06, 9.99998704e-01],\n",
       "       [0.00000000e+00, 1.00000000e+00],\n",
       "       [9.88650653e-01, 1.13493467e-02],\n",
       "       [9.99998828e-01, 1.17225877e-06],\n",
       "       [9.99491689e-01, 5.08310753e-04],\n",
       "       [9.96265308e-01, 3.73469240e-03]])"
      ]
     },
     "execution_count": 15,
     "metadata": {},
     "output_type": "execute_result"
    }
   ],
   "source": [
    "# this is probability of the both the classes\n",
    "model.predict_proba(X_test)"
   ]
  },
  {
   "cell_type": "code",
   "execution_count": 16,
   "metadata": {},
   "outputs": [
    {
     "data": {
      "text/plain": [
       "array([9.99202482e-01, 6.54853334e-05, 1.63090881e-04, 9.99998476e-01,\n",
       "       1.00534025e-03, 7.83738928e-02, 6.34774719e-05, 5.36911293e-01,\n",
       "       9.99999944e-01, 9.59859307e-01, 1.58575515e-05, 1.88446076e-05,\n",
       "       8.85113417e-01, 7.77496874e-05, 9.99976978e-01, 9.99021589e-01,\n",
       "       2.77746731e-04, 9.87751312e-02, 1.57088445e-02, 9.30645228e-01,\n",
       "       9.84716960e-01, 5.78347261e-01, 1.63790166e-02, 3.87005268e-03,\n",
       "       1.00000000e+00, 9.99999995e-01, 3.07879026e-01, 1.00000000e+00,\n",
       "       1.30634820e-04, 9.57012076e-02, 1.87838569e-04, 2.34923416e-03,\n",
       "       1.00000000e+00, 2.73466176e-04, 2.45035423e-02, 9.16670923e-05,\n",
       "       1.11652681e-03, 4.75509138e-06, 2.14103607e-04, 2.90308663e-03,\n",
       "       1.21600351e-04, 1.03810927e-04, 2.23991083e-02, 9.57014370e-01,\n",
       "       2.24936062e-04, 1.00000000e+00, 9.96614125e-01, 9.99928411e-01,\n",
       "       9.99315638e-01, 2.39413355e-02, 3.08221311e-02, 1.13286006e-02,\n",
       "       9.99984925e-01, 7.12151059e-04, 5.09835633e-03, 1.00000000e+00,\n",
       "       9.99999279e-01, 1.09734116e-04, 6.94395006e-02, 4.45025316e-06,\n",
       "       1.00000000e+00, 7.30387998e-05, 9.98978631e-01, 5.54944100e-01,\n",
       "       3.76809587e-05, 9.79370157e-01, 4.99268158e-02, 8.30549223e-07,\n",
       "       9.99922871e-01, 9.99631545e-01, 8.65280887e-06, 4.22026664e-05,\n",
       "       1.19033187e-03, 1.58871784e-05, 4.05557202e-03, 9.98453496e-01,\n",
       "       9.61862957e-04, 1.66967197e-03, 9.99994637e-01, 9.99809171e-01,\n",
       "       1.93402733e-04, 2.44888224e-03, 1.00000000e+00, 6.79817828e-03,\n",
       "       4.49383626e-06, 5.40462623e-04, 2.75807119e-02, 9.50184929e-01,\n",
       "       1.41800287e-03, 9.44626752e-01, 1.17427734e-03, 1.62124977e-02,\n",
       "       9.99997472e-01, 6.51443036e-03, 5.22371450e-06, 2.53830867e-04,\n",
       "       1.00000000e+00, 5.41550220e-04, 1.00000000e+00, 2.83358944e-04,\n",
       "       1.00000000e+00, 9.99974789e-01, 1.49818812e-07, 5.55846961e-06,\n",
       "       1.14195457e-04, 1.40645356e-06, 1.00000000e+00, 1.00000000e+00,\n",
       "       1.02427235e-04, 2.80677044e-04, 1.07015366e-04, 6.75637309e-03,\n",
       "       1.00000000e+00, 9.99999993e-01, 1.00000000e+00, 1.49850839e-05,\n",
       "       4.95342709e-02, 1.00000000e+00, 9.99624671e-01, 1.37820987e-04,\n",
       "       4.49449349e-04, 9.99999996e-01, 3.50197070e-04, 1.00000000e+00,\n",
       "       3.17481774e-07, 3.00166511e-02, 1.00000000e+00, 9.99618983e-01,\n",
       "       2.67074630e-04, 4.28900995e-03, 6.37525104e-02, 1.59462627e-04,\n",
       "       7.43650133e-01, 2.92728207e-06, 3.60297330e-05, 1.00000000e+00,\n",
       "       8.88795415e-01, 1.00000000e+00, 1.15080725e-01, 1.00000000e+00,\n",
       "       1.82210637e-04, 7.33739852e-06, 1.00000000e+00, 4.60472023e-05,\n",
       "       6.16627131e-05, 1.00000000e+00, 5.64337716e-05, 2.09610199e-03,\n",
       "       8.47305102e-03, 1.88352032e-05, 9.99520422e-01, 1.36951871e-05,\n",
       "       1.00000000e+00, 3.80456715e-01, 1.23567143e-05, 4.52801662e-03,\n",
       "       1.00000000e+00, 6.00457758e-04, 8.52535180e-04, 9.99972013e-01,\n",
       "       3.84950501e-05, 3.80113509e-05, 1.53403919e-04, 1.97058584e-04,\n",
       "       1.28507083e-03, 9.99998704e-01, 1.00000000e+00, 1.13493467e-02,\n",
       "       1.17225877e-06, 5.08310753e-04, 3.73469240e-03])"
      ]
     },
     "execution_count": 16,
     "metadata": {},
     "output_type": "execute_result"
    }
   ],
   "source": [
    "# probability of one class\n",
    "model.predict_proba(X_test)[:,1]"
   ]
  },
  {
   "cell_type": "code",
   "execution_count": 17,
   "metadata": {},
   "outputs": [],
   "source": [
    "# testing for 0.3 and 0.4 threshold\n",
    "y_predict_th3 = np.where(model.predict_proba(X_test)[:,1]>0.3,1,0) # Threshold is 0.3\n",
    "y_predict_th4 = np.where(model.predict_proba(X_test)[:,1]>0.4,1,0) # Threshold is 0.4"
   ]
  },
  {
   "cell_type": "code",
   "execution_count": 18,
   "metadata": {},
   "outputs": [
    {
     "data": {
      "text/html": [
       "<div>\n",
       "<style scoped>\n",
       "    .dataframe tbody tr th:only-of-type {\n",
       "        vertical-align: middle;\n",
       "    }\n",
       "\n",
       "    .dataframe tbody tr th {\n",
       "        vertical-align: top;\n",
       "    }\n",
       "\n",
       "    .dataframe thead th {\n",
       "        text-align: right;\n",
       "    }\n",
       "</style>\n",
       "<table border=\"1\" class=\"dataframe\">\n",
       "  <thead>\n",
       "    <tr style=\"text-align: right;\">\n",
       "      <th>col_0</th>\n",
       "      <th>0</th>\n",
       "      <th>1</th>\n",
       "    </tr>\n",
       "    <tr>\n",
       "      <th>diagnosis</th>\n",
       "      <th></th>\n",
       "      <th></th>\n",
       "    </tr>\n",
       "  </thead>\n",
       "  <tbody>\n",
       "    <tr>\n",
       "      <th>0</th>\n",
       "      <td>104</td>\n",
       "      <td>8</td>\n",
       "    </tr>\n",
       "    <tr>\n",
       "      <th>1</th>\n",
       "      <td>1</td>\n",
       "      <td>58</td>\n",
       "    </tr>\n",
       "  </tbody>\n",
       "</table>\n",
       "</div>"
      ],
      "text/plain": [
       "col_0        0   1\n",
       "diagnosis         \n",
       "0          104   8\n",
       "1            1  58"
      ]
     },
     "execution_count": 18,
     "metadata": {},
     "output_type": "execute_result"
    }
   ],
   "source": [
    "pd.crosstab(y_test,y_predict_th3)"
   ]
  },
  {
   "cell_type": "code",
   "execution_count": 19,
   "metadata": {},
   "outputs": [
    {
     "data": {
      "text/html": [
       "<div>\n",
       "<style scoped>\n",
       "    .dataframe tbody tr th:only-of-type {\n",
       "        vertical-align: middle;\n",
       "    }\n",
       "\n",
       "    .dataframe tbody tr th {\n",
       "        vertical-align: top;\n",
       "    }\n",
       "\n",
       "    .dataframe thead th {\n",
       "        text-align: right;\n",
       "    }\n",
       "</style>\n",
       "<table border=\"1\" class=\"dataframe\">\n",
       "  <thead>\n",
       "    <tr style=\"text-align: right;\">\n",
       "      <th>col_0</th>\n",
       "      <th>0</th>\n",
       "      <th>1</th>\n",
       "    </tr>\n",
       "    <tr>\n",
       "      <th>diagnosis</th>\n",
       "      <th></th>\n",
       "      <th></th>\n",
       "    </tr>\n",
       "  </thead>\n",
       "  <tbody>\n",
       "    <tr>\n",
       "      <th>0</th>\n",
       "      <td>106</td>\n",
       "      <td>6</td>\n",
       "    </tr>\n",
       "    <tr>\n",
       "      <th>1</th>\n",
       "      <td>1</td>\n",
       "      <td>58</td>\n",
       "    </tr>\n",
       "  </tbody>\n",
       "</table>\n",
       "</div>"
      ],
      "text/plain": [
       "col_0        0   1\n",
       "diagnosis         \n",
       "0          106   6\n",
       "1            1  58"
      ]
     },
     "execution_count": 19,
     "metadata": {},
     "output_type": "execute_result"
    }
   ],
   "source": [
    "pd.crosstab(y_test,y_predict_th4)"
   ]
  },
  {
   "cell_type": "code",
   "execution_count": 20,
   "metadata": {},
   "outputs": [],
   "source": [
    "# fucntion to predict for all the prob \n",
    "def predict_threshold (model,X_test,thresholds):\n",
    "    import numpy as np\n",
    "    return np.where(model.predict_proba(X_test)[:,1]>thresholds,1,0) # Threshold is 0.3"
   ]
  },
  {
   "cell_type": "code",
   "execution_count": 21,
   "metadata": {},
   "outputs": [
    {
     "name": "stdout",
     "output_type": "stream",
     "text": [
      "Threshold : 0.0\n",
      "[[  0 112]\n",
      " [  0  59]]\n",
      "Threshold : 0.1\n",
      "[[103   9]\n",
      " [  1  58]]\n",
      "Threshold : 0.2\n",
      "[[104   8]\n",
      " [  1  58]]\n",
      "Threshold : 0.30000000000000004\n",
      "[[104   8]\n",
      " [  1  58]]\n",
      "Threshold : 0.4\n",
      "[[106   6]\n",
      " [  1  58]]\n",
      "Threshold : 0.5\n",
      "[[106   6]\n",
      " [  1  58]]\n",
      "Threshold : 0.6000000000000001\n",
      "[[107   5]\n",
      " [  3  56]]\n",
      "Threshold : 0.7000000000000001\n",
      "[[107   5]\n",
      " [  3  56]]\n",
      "Threshold : 0.8\n",
      "[[107   5]\n",
      " [  4  55]]\n",
      "Threshold : 0.9\n",
      "[[108   4]\n",
      " [  5  54]]\n"
     ]
    }
   ],
   "source": [
    "for thr in np.arange(0,1.0,0.1):\n",
    "    y_predict = predict_threshold(model,X_test,thr)\n",
    "    print(\"Threshold :\",thr)\n",
    "    print(confusion_matrix(y_test,y_predict))"
   ]
  },
  {
   "cell_type": "code",
   "execution_count": 22,
   "metadata": {},
   "outputs": [],
   "source": [
    "tpr,fpr,thresholds = roc_curve(y_test,model.predict_proba(X_test)[:,1])"
   ]
  },
  {
   "cell_type": "code",
   "execution_count": 23,
   "metadata": {},
   "outputs": [
    {
     "data": {
      "text/plain": [
       "array([2.00000000e+00, 1.00000000e+00, 9.84716960e-01, 9.79370157e-01,\n",
       "       9.57014370e-01, 8.88795415e-01, 5.54944100e-01, 4.99268158e-02,\n",
       "       4.95342709e-02, 1.49818812e-07])"
      ]
     },
     "execution_count": 23,
     "metadata": {},
     "output_type": "execute_result"
    }
   ],
   "source": [
    "# to get all the theshold\n",
    "thresholds"
   ]
  },
  {
   "cell_type": "code",
   "execution_count": 24,
   "metadata": {},
   "outputs": [
    {
     "data": {
      "image/png": "[encoded data removed]",
      "text/plain": [
       "<Figure size 432x288 with 1 Axes>"
      ]
     },
     "metadata": {
      "needs_background": "light"
     },
     "output_type": "display_data"
    }
   ],
   "source": [
    "# plot the auc - roc curve\n",
    "fpr, tpr, thresholds = roc_curve(y_test, model.predict_proba(X_test)[:,1],drop_intermediate=False)\n",
    "plt.xlim([0.0, 1.0])\n",
    "plt.ylim([0.0, 1.0])\n",
    "plt.title('ROC curve for breast cancer classifier')\n",
    "plt.xlabel('False Positive Rate (1 - Specificity)')\n",
    "plt.ylabel('True Positive Rate (Sensitivity)')\n",
    "plt.plot(fpr, tpr,color='red',lw=5)\n",
    "plt.show()"
   ]
  },
  {
   "cell_type": "code",
   "execution_count": 25,
   "metadata": {},
   "outputs": [
    {
     "data": {
      "text/plain": [
       "0.9944007263922519"
      ]
     },
     "execution_count": 25,
     "metadata": {},
     "output_type": "execute_result"
    }
   ],
   "source": [
    "# roc-auc score\n",
    "roc_auc_score(y_test, model.predict_proba(X_test)[:,1])"
   ]
  },
  {
   "cell_type": "markdown",
   "metadata": {},
   "source": [
    "### Roc - Auc score should be as closs to 1 for a good model\n",
    "\n",
    "### deciding the best threshold is the decision that depends on the usecase that we try to solve"
   ]
  },
  {
   "cell_type": "code",
   "execution_count": null,
   "metadata": {},
   "outputs": [],
   "source": []
  }
 ],
 "metadata": {
  "kernelspec": {
   "display_name": "Python 3",
   "language": "python",
   "name": "python3"
  },
  "language_info": {
   "codemirror_mode": {
    "name": "ipython",
    "version": 3
   },
   "file_extension": ".py",
   "mimetype": "text/x-python",
   "name": "python",
   "nbconvert_exporter": "python",
   "pygments_lexer": "ipython3",
   "version": "3.8.5"
  }
 },
 "nbformat": 4,
 "nbformat_minor": 2
}
